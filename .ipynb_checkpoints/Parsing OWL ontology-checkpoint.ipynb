{
 "cells": [
  {
   "cell_type": "code",
   "execution_count": 1,
   "id": "55433bd6",
   "metadata": {},
   "outputs": [
    {
     "ename": "URLError",
     "evalue": "<urlopen error [Errno 11001] getaddrinfo failed>",
     "output_type": "error",
     "traceback": [
      "\u001b[1;31m---------------------------------------------------------------------------\u001b[0m",
      "\u001b[1;31mgaierror\u001b[0m                                  Traceback (most recent call last)",
      "\u001b[1;32m~\\anaconda3\\lib\\urllib\\request.py\u001b[0m in \u001b[0;36mdo_open\u001b[1;34m(self, http_class, req, **http_conn_args)\u001b[0m\n\u001b[0;32m   1345\u001b[0m             \u001b[1;32mtry\u001b[0m\u001b[1;33m:\u001b[0m\u001b[1;33m\u001b[0m\u001b[1;33m\u001b[0m\u001b[0m\n\u001b[1;32m-> 1346\u001b[1;33m                 h.request(req.get_method(), req.selector, req.data, headers,\n\u001b[0m\u001b[0;32m   1347\u001b[0m                           encode_chunked=req.has_header('Transfer-encoding'))\n",
      "\u001b[1;32m~\\anaconda3\\lib\\http\\client.py\u001b[0m in \u001b[0;36mrequest\u001b[1;34m(self, method, url, body, headers, encode_chunked)\u001b[0m\n\u001b[0;32m   1278\u001b[0m         \u001b[1;34m\"\"\"Send a complete request to the server.\"\"\"\u001b[0m\u001b[1;33m\u001b[0m\u001b[1;33m\u001b[0m\u001b[0m\n\u001b[1;32m-> 1279\u001b[1;33m         \u001b[0mself\u001b[0m\u001b[1;33m.\u001b[0m\u001b[0m_send_request\u001b[0m\u001b[1;33m(\u001b[0m\u001b[0mmethod\u001b[0m\u001b[1;33m,\u001b[0m \u001b[0murl\u001b[0m\u001b[1;33m,\u001b[0m \u001b[0mbody\u001b[0m\u001b[1;33m,\u001b[0m \u001b[0mheaders\u001b[0m\u001b[1;33m,\u001b[0m \u001b[0mencode_chunked\u001b[0m\u001b[1;33m)\u001b[0m\u001b[1;33m\u001b[0m\u001b[1;33m\u001b[0m\u001b[0m\n\u001b[0m\u001b[0;32m   1280\u001b[0m \u001b[1;33m\u001b[0m\u001b[0m\n",
      "\u001b[1;32m~\\anaconda3\\lib\\http\\client.py\u001b[0m in \u001b[0;36m_send_request\u001b[1;34m(self, method, url, body, headers, encode_chunked)\u001b[0m\n\u001b[0;32m   1324\u001b[0m             \u001b[0mbody\u001b[0m \u001b[1;33m=\u001b[0m \u001b[0m_encode\u001b[0m\u001b[1;33m(\u001b[0m\u001b[0mbody\u001b[0m\u001b[1;33m,\u001b[0m \u001b[1;34m'body'\u001b[0m\u001b[1;33m)\u001b[0m\u001b[1;33m\u001b[0m\u001b[1;33m\u001b[0m\u001b[0m\n\u001b[1;32m-> 1325\u001b[1;33m         \u001b[0mself\u001b[0m\u001b[1;33m.\u001b[0m\u001b[0mendheaders\u001b[0m\u001b[1;33m(\u001b[0m\u001b[0mbody\u001b[0m\u001b[1;33m,\u001b[0m \u001b[0mencode_chunked\u001b[0m\u001b[1;33m=\u001b[0m\u001b[0mencode_chunked\u001b[0m\u001b[1;33m)\u001b[0m\u001b[1;33m\u001b[0m\u001b[1;33m\u001b[0m\u001b[0m\n\u001b[0m\u001b[0;32m   1326\u001b[0m \u001b[1;33m\u001b[0m\u001b[0m\n",
      "\u001b[1;32m~\\anaconda3\\lib\\http\\client.py\u001b[0m in \u001b[0;36mendheaders\u001b[1;34m(self, message_body, encode_chunked)\u001b[0m\n\u001b[0;32m   1273\u001b[0m             \u001b[1;32mraise\u001b[0m \u001b[0mCannotSendHeader\u001b[0m\u001b[1;33m(\u001b[0m\u001b[1;33m)\u001b[0m\u001b[1;33m\u001b[0m\u001b[1;33m\u001b[0m\u001b[0m\n\u001b[1;32m-> 1274\u001b[1;33m         \u001b[0mself\u001b[0m\u001b[1;33m.\u001b[0m\u001b[0m_send_output\u001b[0m\u001b[1;33m(\u001b[0m\u001b[0mmessage_body\u001b[0m\u001b[1;33m,\u001b[0m \u001b[0mencode_chunked\u001b[0m\u001b[1;33m=\u001b[0m\u001b[0mencode_chunked\u001b[0m\u001b[1;33m)\u001b[0m\u001b[1;33m\u001b[0m\u001b[1;33m\u001b[0m\u001b[0m\n\u001b[0m\u001b[0;32m   1275\u001b[0m \u001b[1;33m\u001b[0m\u001b[0m\n",
      "\u001b[1;32m~\\anaconda3\\lib\\http\\client.py\u001b[0m in \u001b[0;36m_send_output\u001b[1;34m(self, message_body, encode_chunked)\u001b[0m\n\u001b[0;32m   1033\u001b[0m         \u001b[1;32mdel\u001b[0m \u001b[0mself\u001b[0m\u001b[1;33m.\u001b[0m\u001b[0m_buffer\u001b[0m\u001b[1;33m[\u001b[0m\u001b[1;33m:\u001b[0m\u001b[1;33m]\u001b[0m\u001b[1;33m\u001b[0m\u001b[1;33m\u001b[0m\u001b[0m\n\u001b[1;32m-> 1034\u001b[1;33m         \u001b[0mself\u001b[0m\u001b[1;33m.\u001b[0m\u001b[0msend\u001b[0m\u001b[1;33m(\u001b[0m\u001b[0mmsg\u001b[0m\u001b[1;33m)\u001b[0m\u001b[1;33m\u001b[0m\u001b[1;33m\u001b[0m\u001b[0m\n\u001b[0m\u001b[0;32m   1035\u001b[0m \u001b[1;33m\u001b[0m\u001b[0m\n",
      "\u001b[1;32m~\\anaconda3\\lib\\http\\client.py\u001b[0m in \u001b[0;36msend\u001b[1;34m(self, data)\u001b[0m\n\u001b[0;32m    973\u001b[0m             \u001b[1;32mif\u001b[0m \u001b[0mself\u001b[0m\u001b[1;33m.\u001b[0m\u001b[0mauto_open\u001b[0m\u001b[1;33m:\u001b[0m\u001b[1;33m\u001b[0m\u001b[1;33m\u001b[0m\u001b[0m\n\u001b[1;32m--> 974\u001b[1;33m                 \u001b[0mself\u001b[0m\u001b[1;33m.\u001b[0m\u001b[0mconnect\u001b[0m\u001b[1;33m(\u001b[0m\u001b[1;33m)\u001b[0m\u001b[1;33m\u001b[0m\u001b[1;33m\u001b[0m\u001b[0m\n\u001b[0m\u001b[0;32m    975\u001b[0m             \u001b[1;32melse\u001b[0m\u001b[1;33m:\u001b[0m\u001b[1;33m\u001b[0m\u001b[1;33m\u001b[0m\u001b[0m\n",
      "\u001b[1;32m~\\anaconda3\\lib\\http\\client.py\u001b[0m in \u001b[0;36mconnect\u001b[1;34m(self)\u001b[0m\n\u001b[0;32m   1440\u001b[0m \u001b[1;33m\u001b[0m\u001b[0m\n\u001b[1;32m-> 1441\u001b[1;33m             \u001b[0msuper\u001b[0m\u001b[1;33m(\u001b[0m\u001b[1;33m)\u001b[0m\u001b[1;33m.\u001b[0m\u001b[0mconnect\u001b[0m\u001b[1;33m(\u001b[0m\u001b[1;33m)\u001b[0m\u001b[1;33m\u001b[0m\u001b[1;33m\u001b[0m\u001b[0m\n\u001b[0m\u001b[0;32m   1442\u001b[0m \u001b[1;33m\u001b[0m\u001b[0m\n",
      "\u001b[1;32m~\\anaconda3\\lib\\http\\client.py\u001b[0m in \u001b[0;36mconnect\u001b[1;34m(self)\u001b[0m\n\u001b[0;32m    944\u001b[0m         \u001b[1;34m\"\"\"Connect to the host and port specified in __init__.\"\"\"\u001b[0m\u001b[1;33m\u001b[0m\u001b[1;33m\u001b[0m\u001b[0m\n\u001b[1;32m--> 945\u001b[1;33m         self.sock = self._create_connection(\n\u001b[0m\u001b[0;32m    946\u001b[0m             (self.host,self.port), self.timeout, self.source_address)\n",
      "\u001b[1;32m~\\anaconda3\\lib\\socket.py\u001b[0m in \u001b[0;36mcreate_connection\u001b[1;34m(address, timeout, source_address)\u001b[0m\n\u001b[0;32m    822\u001b[0m     \u001b[0merr\u001b[0m \u001b[1;33m=\u001b[0m \u001b[1;32mNone\u001b[0m\u001b[1;33m\u001b[0m\u001b[1;33m\u001b[0m\u001b[0m\n\u001b[1;32m--> 823\u001b[1;33m     \u001b[1;32mfor\u001b[0m \u001b[0mres\u001b[0m \u001b[1;32min\u001b[0m \u001b[0mgetaddrinfo\u001b[0m\u001b[1;33m(\u001b[0m\u001b[0mhost\u001b[0m\u001b[1;33m,\u001b[0m \u001b[0mport\u001b[0m\u001b[1;33m,\u001b[0m \u001b[1;36m0\u001b[0m\u001b[1;33m,\u001b[0m \u001b[0mSOCK_STREAM\u001b[0m\u001b[1;33m)\u001b[0m\u001b[1;33m:\u001b[0m\u001b[1;33m\u001b[0m\u001b[1;33m\u001b[0m\u001b[0m\n\u001b[0m\u001b[0;32m    824\u001b[0m         \u001b[0maf\u001b[0m\u001b[1;33m,\u001b[0m \u001b[0msocktype\u001b[0m\u001b[1;33m,\u001b[0m \u001b[0mproto\u001b[0m\u001b[1;33m,\u001b[0m \u001b[0mcanonname\u001b[0m\u001b[1;33m,\u001b[0m \u001b[0msa\u001b[0m \u001b[1;33m=\u001b[0m \u001b[0mres\u001b[0m\u001b[1;33m\u001b[0m\u001b[1;33m\u001b[0m\u001b[0m\n",
      "\u001b[1;32m~\\anaconda3\\lib\\socket.py\u001b[0m in \u001b[0;36mgetaddrinfo\u001b[1;34m(host, port, family, type, proto, flags)\u001b[0m\n\u001b[0;32m    953\u001b[0m     \u001b[0maddrlist\u001b[0m \u001b[1;33m=\u001b[0m \u001b[1;33m[\u001b[0m\u001b[1;33m]\u001b[0m\u001b[1;33m\u001b[0m\u001b[1;33m\u001b[0m\u001b[0m\n\u001b[1;32m--> 954\u001b[1;33m     \u001b[1;32mfor\u001b[0m \u001b[0mres\u001b[0m \u001b[1;32min\u001b[0m \u001b[0m_socket\u001b[0m\u001b[1;33m.\u001b[0m\u001b[0mgetaddrinfo\u001b[0m\u001b[1;33m(\u001b[0m\u001b[0mhost\u001b[0m\u001b[1;33m,\u001b[0m \u001b[0mport\u001b[0m\u001b[1;33m,\u001b[0m \u001b[0mfamily\u001b[0m\u001b[1;33m,\u001b[0m \u001b[0mtype\u001b[0m\u001b[1;33m,\u001b[0m \u001b[0mproto\u001b[0m\u001b[1;33m,\u001b[0m \u001b[0mflags\u001b[0m\u001b[1;33m)\u001b[0m\u001b[1;33m:\u001b[0m\u001b[1;33m\u001b[0m\u001b[1;33m\u001b[0m\u001b[0m\n\u001b[0m\u001b[0;32m    955\u001b[0m         \u001b[0maf\u001b[0m\u001b[1;33m,\u001b[0m \u001b[0msocktype\u001b[0m\u001b[1;33m,\u001b[0m \u001b[0mproto\u001b[0m\u001b[1;33m,\u001b[0m \u001b[0mcanonname\u001b[0m\u001b[1;33m,\u001b[0m \u001b[0msa\u001b[0m \u001b[1;33m=\u001b[0m \u001b[0mres\u001b[0m\u001b[1;33m\u001b[0m\u001b[1;33m\u001b[0m\u001b[0m\n",
      "\u001b[1;31mgaierror\u001b[0m: [Errno 11001] getaddrinfo failed",
      "\nDuring handling of the above exception, another exception occurred:\n",
      "\u001b[1;31mURLError\u001b[0m                                  Traceback (most recent call last)",
      "\u001b[1;32m~\\AppData\\Local\\Temp/ipykernel_21612/1802508564.py\u001b[0m in \u001b[0;36m<module>\u001b[1;34m\u001b[0m\n\u001b[0;32m      3\u001b[0m \u001b[0mlink\u001b[0m \u001b[1;33m=\u001b[0m \u001b[1;34m\"https://raw.githubusercontent.com/polifonia-project/organs-ontology/main/organs-ontology.owl\"\u001b[0m\u001b[1;33m\u001b[0m\u001b[1;33m\u001b[0m\u001b[0m\n\u001b[0;32m      4\u001b[0m \u001b[0mbase_url\u001b[0m \u001b[1;33m=\u001b[0m \u001b[1;34m\"https://w3id.org/lode/\"\u001b[0m\u001b[1;33m\u001b[0m\u001b[1;33m\u001b[0m\u001b[0m\n\u001b[1;32m----> 5\u001b[1;33m \u001b[0mpage\u001b[0m \u001b[1;33m=\u001b[0m \u001b[0murllib\u001b[0m\u001b[1;33m.\u001b[0m\u001b[0mrequest\u001b[0m\u001b[1;33m.\u001b[0m\u001b[0murlopen\u001b[0m\u001b[1;33m(\u001b[0m\u001b[0mbase_url\u001b[0m \u001b[1;33m+\u001b[0m \u001b[0mlink\u001b[0m\u001b[1;33m)\u001b[0m\u001b[1;33m\u001b[0m\u001b[1;33m\u001b[0m\u001b[0m\n\u001b[0m\u001b[0;32m      6\u001b[0m \u001b[0msoup\u001b[0m \u001b[1;33m=\u001b[0m \u001b[0mBeautifulSoup\u001b[0m\u001b[1;33m(\u001b[0m\u001b[0mpage\u001b[0m\u001b[1;33m)\u001b[0m\u001b[1;33m\u001b[0m\u001b[1;33m\u001b[0m\u001b[0m\n",
      "\u001b[1;32m~\\anaconda3\\lib\\urllib\\request.py\u001b[0m in \u001b[0;36murlopen\u001b[1;34m(url, data, timeout, cafile, capath, cadefault, context)\u001b[0m\n\u001b[0;32m    212\u001b[0m     \u001b[1;32melse\u001b[0m\u001b[1;33m:\u001b[0m\u001b[1;33m\u001b[0m\u001b[1;33m\u001b[0m\u001b[0m\n\u001b[0;32m    213\u001b[0m         \u001b[0mopener\u001b[0m \u001b[1;33m=\u001b[0m \u001b[0m_opener\u001b[0m\u001b[1;33m\u001b[0m\u001b[1;33m\u001b[0m\u001b[0m\n\u001b[1;32m--> 214\u001b[1;33m     \u001b[1;32mreturn\u001b[0m \u001b[0mopener\u001b[0m\u001b[1;33m.\u001b[0m\u001b[0mopen\u001b[0m\u001b[1;33m(\u001b[0m\u001b[0murl\u001b[0m\u001b[1;33m,\u001b[0m \u001b[0mdata\u001b[0m\u001b[1;33m,\u001b[0m \u001b[0mtimeout\u001b[0m\u001b[1;33m)\u001b[0m\u001b[1;33m\u001b[0m\u001b[1;33m\u001b[0m\u001b[0m\n\u001b[0m\u001b[0;32m    215\u001b[0m \u001b[1;33m\u001b[0m\u001b[0m\n\u001b[0;32m    216\u001b[0m \u001b[1;32mdef\u001b[0m \u001b[0minstall_opener\u001b[0m\u001b[1;33m(\u001b[0m\u001b[0mopener\u001b[0m\u001b[1;33m)\u001b[0m\u001b[1;33m:\u001b[0m\u001b[1;33m\u001b[0m\u001b[1;33m\u001b[0m\u001b[0m\n",
      "\u001b[1;32m~\\anaconda3\\lib\\urllib\\request.py\u001b[0m in \u001b[0;36mopen\u001b[1;34m(self, fullurl, data, timeout)\u001b[0m\n\u001b[0;32m    515\u001b[0m \u001b[1;33m\u001b[0m\u001b[0m\n\u001b[0;32m    516\u001b[0m         \u001b[0msys\u001b[0m\u001b[1;33m.\u001b[0m\u001b[0maudit\u001b[0m\u001b[1;33m(\u001b[0m\u001b[1;34m'urllib.Request'\u001b[0m\u001b[1;33m,\u001b[0m \u001b[0mreq\u001b[0m\u001b[1;33m.\u001b[0m\u001b[0mfull_url\u001b[0m\u001b[1;33m,\u001b[0m \u001b[0mreq\u001b[0m\u001b[1;33m.\u001b[0m\u001b[0mdata\u001b[0m\u001b[1;33m,\u001b[0m \u001b[0mreq\u001b[0m\u001b[1;33m.\u001b[0m\u001b[0mheaders\u001b[0m\u001b[1;33m,\u001b[0m \u001b[0mreq\u001b[0m\u001b[1;33m.\u001b[0m\u001b[0mget_method\u001b[0m\u001b[1;33m(\u001b[0m\u001b[1;33m)\u001b[0m\u001b[1;33m)\u001b[0m\u001b[1;33m\u001b[0m\u001b[1;33m\u001b[0m\u001b[0m\n\u001b[1;32m--> 517\u001b[1;33m         \u001b[0mresponse\u001b[0m \u001b[1;33m=\u001b[0m \u001b[0mself\u001b[0m\u001b[1;33m.\u001b[0m\u001b[0m_open\u001b[0m\u001b[1;33m(\u001b[0m\u001b[0mreq\u001b[0m\u001b[1;33m,\u001b[0m \u001b[0mdata\u001b[0m\u001b[1;33m)\u001b[0m\u001b[1;33m\u001b[0m\u001b[1;33m\u001b[0m\u001b[0m\n\u001b[0m\u001b[0;32m    518\u001b[0m \u001b[1;33m\u001b[0m\u001b[0m\n\u001b[0;32m    519\u001b[0m         \u001b[1;31m# post-process response\u001b[0m\u001b[1;33m\u001b[0m\u001b[1;33m\u001b[0m\u001b[0m\n",
      "\u001b[1;32m~\\anaconda3\\lib\\urllib\\request.py\u001b[0m in \u001b[0;36m_open\u001b[1;34m(self, req, data)\u001b[0m\n\u001b[0;32m    532\u001b[0m \u001b[1;33m\u001b[0m\u001b[0m\n\u001b[0;32m    533\u001b[0m         \u001b[0mprotocol\u001b[0m \u001b[1;33m=\u001b[0m \u001b[0mreq\u001b[0m\u001b[1;33m.\u001b[0m\u001b[0mtype\u001b[0m\u001b[1;33m\u001b[0m\u001b[1;33m\u001b[0m\u001b[0m\n\u001b[1;32m--> 534\u001b[1;33m         result = self._call_chain(self.handle_open, protocol, protocol +\n\u001b[0m\u001b[0;32m    535\u001b[0m                                   '_open', req)\n\u001b[0;32m    536\u001b[0m         \u001b[1;32mif\u001b[0m \u001b[0mresult\u001b[0m\u001b[1;33m:\u001b[0m\u001b[1;33m\u001b[0m\u001b[1;33m\u001b[0m\u001b[0m\n",
      "\u001b[1;32m~\\anaconda3\\lib\\urllib\\request.py\u001b[0m in \u001b[0;36m_call_chain\u001b[1;34m(self, chain, kind, meth_name, *args)\u001b[0m\n\u001b[0;32m    492\u001b[0m         \u001b[1;32mfor\u001b[0m \u001b[0mhandler\u001b[0m \u001b[1;32min\u001b[0m \u001b[0mhandlers\u001b[0m\u001b[1;33m:\u001b[0m\u001b[1;33m\u001b[0m\u001b[1;33m\u001b[0m\u001b[0m\n\u001b[0;32m    493\u001b[0m             \u001b[0mfunc\u001b[0m \u001b[1;33m=\u001b[0m \u001b[0mgetattr\u001b[0m\u001b[1;33m(\u001b[0m\u001b[0mhandler\u001b[0m\u001b[1;33m,\u001b[0m \u001b[0mmeth_name\u001b[0m\u001b[1;33m)\u001b[0m\u001b[1;33m\u001b[0m\u001b[1;33m\u001b[0m\u001b[0m\n\u001b[1;32m--> 494\u001b[1;33m             \u001b[0mresult\u001b[0m \u001b[1;33m=\u001b[0m \u001b[0mfunc\u001b[0m\u001b[1;33m(\u001b[0m\u001b[1;33m*\u001b[0m\u001b[0margs\u001b[0m\u001b[1;33m)\u001b[0m\u001b[1;33m\u001b[0m\u001b[1;33m\u001b[0m\u001b[0m\n\u001b[0m\u001b[0;32m    495\u001b[0m             \u001b[1;32mif\u001b[0m \u001b[0mresult\u001b[0m \u001b[1;32mis\u001b[0m \u001b[1;32mnot\u001b[0m \u001b[1;32mNone\u001b[0m\u001b[1;33m:\u001b[0m\u001b[1;33m\u001b[0m\u001b[1;33m\u001b[0m\u001b[0m\n\u001b[0;32m    496\u001b[0m                 \u001b[1;32mreturn\u001b[0m \u001b[0mresult\u001b[0m\u001b[1;33m\u001b[0m\u001b[1;33m\u001b[0m\u001b[0m\n",
      "\u001b[1;32m~\\anaconda3\\lib\\urllib\\request.py\u001b[0m in \u001b[0;36mhttps_open\u001b[1;34m(self, req)\u001b[0m\n\u001b[0;32m   1387\u001b[0m \u001b[1;33m\u001b[0m\u001b[0m\n\u001b[0;32m   1388\u001b[0m         \u001b[1;32mdef\u001b[0m \u001b[0mhttps_open\u001b[0m\u001b[1;33m(\u001b[0m\u001b[0mself\u001b[0m\u001b[1;33m,\u001b[0m \u001b[0mreq\u001b[0m\u001b[1;33m)\u001b[0m\u001b[1;33m:\u001b[0m\u001b[1;33m\u001b[0m\u001b[1;33m\u001b[0m\u001b[0m\n\u001b[1;32m-> 1389\u001b[1;33m             return self.do_open(http.client.HTTPSConnection, req,\n\u001b[0m\u001b[0;32m   1390\u001b[0m                 context=self._context, check_hostname=self._check_hostname)\n\u001b[0;32m   1391\u001b[0m \u001b[1;33m\u001b[0m\u001b[0m\n",
      "\u001b[1;32m~\\anaconda3\\lib\\urllib\\request.py\u001b[0m in \u001b[0;36mdo_open\u001b[1;34m(self, http_class, req, **http_conn_args)\u001b[0m\n\u001b[0;32m   1347\u001b[0m                           encode_chunked=req.has_header('Transfer-encoding'))\n\u001b[0;32m   1348\u001b[0m             \u001b[1;32mexcept\u001b[0m \u001b[0mOSError\u001b[0m \u001b[1;32mas\u001b[0m \u001b[0merr\u001b[0m\u001b[1;33m:\u001b[0m \u001b[1;31m# timeout error\u001b[0m\u001b[1;33m\u001b[0m\u001b[1;33m\u001b[0m\u001b[0m\n\u001b[1;32m-> 1349\u001b[1;33m                 \u001b[1;32mraise\u001b[0m \u001b[0mURLError\u001b[0m\u001b[1;33m(\u001b[0m\u001b[0merr\u001b[0m\u001b[1;33m)\u001b[0m\u001b[1;33m\u001b[0m\u001b[1;33m\u001b[0m\u001b[0m\n\u001b[0m\u001b[0;32m   1350\u001b[0m             \u001b[0mr\u001b[0m \u001b[1;33m=\u001b[0m \u001b[0mh\u001b[0m\u001b[1;33m.\u001b[0m\u001b[0mgetresponse\u001b[0m\u001b[1;33m(\u001b[0m\u001b[1;33m)\u001b[0m\u001b[1;33m\u001b[0m\u001b[1;33m\u001b[0m\u001b[0m\n\u001b[0;32m   1351\u001b[0m         \u001b[1;32mexcept\u001b[0m\u001b[1;33m:\u001b[0m\u001b[1;33m\u001b[0m\u001b[1;33m\u001b[0m\u001b[0m\n",
      "\u001b[1;31mURLError\u001b[0m: <urlopen error [Errno 11001] getaddrinfo failed>"
     ]
    }
   ],
   "source": [
    "import urllib.request\n",
    "from bs4 import BeautifulSoup\n",
    "link = \"https://raw.githubusercontent.com/SongsTOPoems/STOP/main/WIDOCOFINAL/stop.rdf\"\n",
    "base_url = \"https://w3id.org/lode/\"\n",
    "page = urllib.request.urlopen(base_url + link)\n",
    "soup = BeautifulSoup(page)"
   ]
  },
  {
   "cell_type": "code",
   "execution_count": 2,
   "id": "6c760ab1",
   "metadata": {},
   "outputs": [
    {
     "data": {
      "text/plain": [
       "{'Agent': [None, 'https://w3id.org/arco/ontology/core/Role'],\n",
       " 'Agent role': ['has agent',\n",
       "  'https://w3id.org/polifonia/ontology/core/AgentRole'],\n",
       " 'Brustwerk case': ['Case segment',\n",
       "  'https://w3id.org/polifonia/ontology/organs/BrustwerkCase'],\n",
       " 'Case segment': ['Brustwerk case',\n",
       "  'https://w3id.org/polifonia/ontology/organs/CaseSegment'],\n",
       " 'Choir case': ['Case segment',\n",
       "  'https://w3id.org/polifonia/ontology/organs/ChoirCase'],\n",
       " 'Console location (relative to the organ)': ['has console location',\n",
       "  'https://w3id.org/polifonia/ontology/organs/ConsoleLocation'],\n",
       " 'Console playing aids': [None,\n",
       "  'https://w3id.org/polifonia/ontology/organs/PlayingAids'],\n",
       " 'Console stop knob': [None,\n",
       "  'https://w3id.org/polifonia/ontology/organs/StopKnob'],\n",
       " 'Division stop': ['has part',\n",
       "  'https://w3id.org/polifonia/ontology/organs/DivisionStop'],\n",
       " 'Keyboard': ['Manual keyboard',\n",
       "  'https://w3id.org/polifonia/ontology/organs/Keyboard'],\n",
       " 'Main case': ['Case segment',\n",
       "  'https://w3id.org/polifonia/ontology/organs/MainCase'],\n",
       " 'Manual keyboard': ['Keyboard',\n",
       "  'https://w3id.org/polifonia/ontology/organs/ManualKeyboard'],\n",
       " 'Oberwerk case': ['Case segment',\n",
       "  'https://w3id.org/polifonia/ontology/organs/OberwerkCase'],\n",
       " 'Organ': ['includes part',\n",
       "  'https://w3id.org/polifonia/ontology/organs/Organ'],\n",
       " 'Organ action': ['has console location',\n",
       "  'https://w3id.org/polifonia/ontology/organs/Action'],\n",
       " 'Organ Bellow': [None, 'https://w3id.org/polifonia/ontology/organs/Bellow'],\n",
       " 'Organ case': ['has part', 'https://w3id.org/polifonia/ontology/organs/Case'],\n",
       " 'Organ console': ['has part',\n",
       "  'https://w3id.org/polifonia/ontology/organs/Console'],\n",
       " 'Organ division': ['has part',\n",
       "  'https://w3id.org/polifonia/ontology/organs/Division'],\n",
       " 'Organ wind system': ['has part',\n",
       "  'https://w3id.org/polifonia/ontology/organs/WindSystem'],\n",
       " 'Parthood': ['includes whole',\n",
       "  'https://w3id.org/arco/ontology/core/Parthood'],\n",
       " 'Pedal keyboard': ['Keyboard',\n",
       "  'https://w3id.org/polifonia/ontology/organs/PedalKeyboard'],\n",
       " 'Pedal tower case': ['Case segment',\n",
       "  'https://w3id.org/polifonia/ontology/organs/PedalTowerCase'],\n",
       " 'Pipe': [None, 'https://w3id.org/polifonia/ontology/organs/Pipe'],\n",
       " 'Place': [None, 'https://w3id.org/arco/ontology/core/Place'],\n",
       " 'Positive case': ['Case segment',\n",
       "  'https://w3id.org/polifonia/ontology/organs/PositiveCase'],\n",
       " 'Project': ['defines task', 'https://w3id.org/arco/ontology/core/Project'],\n",
       " 'Stop rank': ['has part',\n",
       "  'https://w3id.org/polifonia/ontology/organs/StopRank'],\n",
       " 'Task': [None, 'https://w3id.org/arco/ontology/core/Task'],\n",
       " 'Time interval': [None,\n",
       "  'https://w3id.org/polifonia/ontology/core/TimeInterval'],\n",
       " 'Wind channel': [None,\n",
       "  'https://w3id.org/polifonia/ontology/organs/WindChannel']}"
      ]
     },
     "execution_count": 2,
     "metadata": {},
     "output_type": "execute_result"
    }
   ],
   "source": [
    "#CLASSES\n",
    "\n",
    "classes_div = soup.find(id=\"classes\").findAll(\"div\", {\"class\": \"entity\"})\n",
    "    classes = {}\n",
    "    for el in classes_div:\n",
    "        inner_dict = {}\n",
    "        dts = el.findAll(\"dt\") \n",
    "        dds = el.findAll(\"dd\")\n",
    "        for idx in range(len(dts)):\n",
    "            a_list = []\n",
    "            for a in dds[idx].findAll(\"a\"):\n",
    "                a_list.append(a.find(text=True))\n",
    "            inner_dict[str(dts[idx].find(text=True))] = a_list\n",
    "        inner_dict[\"iri\"] = el.find(\"a\")['name']\n",
    "        classes[str((el.find(\"h3\").find(text=True)))] = inner_dict\n",
    "classes"
   ]
  },
  {
   "cell_type": "code",
   "execution_count": 3,
   "id": "a18b4e55",
   "metadata": {},
   "outputs": [
    {
     "data": {
      "text/plain": [
       "{'defines task': {'domain': 'is task defined in',\n",
       "  'iri': 'https://w3id.org/arco/ontology/core/definesTask'},\n",
       " 'described': {'domain': 'is described by',\n",
       "  'iri': 'https://w3id.org/arco/ontology/core/describes'},\n",
       " 'has agent': {'domain': 'is agent of',\n",
       "  'iri': 'https://w3id.org/arco/ontology/core/hasAgent'},\n",
       " 'has agent role': {'domain': 'is agent role of',\n",
       "  'iri': 'https://w3id.org/polifonia/ontology/core/hasAgentRole'},\n",
       " 'has console location': {'domain': 'Organ action',\n",
       "  'range': 'Console location (relative to the organ)',\n",
       "  'iri': 'https://w3id.org/polifonia/ontology/organs/hasConsoleLocation'},\n",
       " 'has part': {'domain': 'is part of',\n",
       "  'iri': 'https://w3id.org/polifonia/ontology/core/hasPart'},\n",
       " 'has place': {'domain': 'is place of',\n",
       "  'iri': 'https://w3id.org/arco/ontology/core/hasPlace'},\n",
       " 'has role': {'domain': 'is role of',\n",
       "  'iri': 'https://w3id.org/arco/ontology/core/hasRole'},\n",
       " 'has time interval': {'domain': 'is time interval of',\n",
       "  'iri': 'https://w3id.org/polifonia/ontology/core/hasTimeInterval'},\n",
       " 'includes part': {'domain': 'is part included in',\n",
       "  'iri': 'https://w3id.org/arco/ontology/core/includesPart'},\n",
       " 'includes whole': {'domain': 'thing',\n",
       "  'range': 'thing',\n",
       "  'iri': 'https://w3id.org/arco/ontology/core/incudesWhole'},\n",
       " 'is agent of': {'domain': 'has agent',\n",
       "  'iri': 'https://w3id.org/arco/ontology/core/isAgentOf'},\n",
       " 'is agent role of': {'domain': 'has agent role',\n",
       "  'iri': 'https://w3id.org/polifonia/ontology/organs/isAgentRoleOf'},\n",
       " 'is console location of': {'domain': 'has console location',\n",
       "  'iri': 'https://w3id.org/polifonia/ontology/organs/isConsoleLocationOf'},\n",
       " 'is described by': {'domain': 'described',\n",
       "  'iri': 'https://w3id.org/arco/ontology/core/isDescribedBy'},\n",
       " 'is part included in': {'domain': 'includes part',\n",
       "  'iri': 'https://w3id.org/arco/ontology/core/isPartIncludedIn'},\n",
       " 'is part of': {'domain': 'has part',\n",
       "  'iri': 'https://w3id.org/polifonia/ontology/organs/isPartOf'},\n",
       " 'is place of': {'domain': 'has place',\n",
       "  'iri': 'https://w3id.org/arco/ontology/core/isPlaceOf'},\n",
       " 'is role of': {'domain': 'has role',\n",
       "  'iri': 'https://w3id.org/arco/ontology/core/isRoleOf'},\n",
       " 'is task defined in': {'domain': 'defines task',\n",
       "  'iri': 'https://w3id.org/arco/ontology/core/isTaskDefinedIn'},\n",
       " 'is time interval of': {'domain': 'has time interval',\n",
       "  'iri': 'https://w3id.org/polifonia/ontology/organs/isTimeIntervalOf'},\n",
       " 'is whole included in': {'domain': 'includes whole',\n",
       "  'iri': 'https://w3id.org/arco/ontology/core/isWholeIncludedIn'}}"
      ]
     },
     "execution_count": 3,
     "metadata": {},
     "output_type": "execute_result"
    }
   ],
   "source": [
    "#OBJECT PROPERTIES\n",
    "\n",
    "obj_props_div = soup.find(id=\"objectproperties\").findAll(\"div\", {\"class\": \"entity\"})\n",
    "obj_props = {}\n",
    "for el in obj_props_div: \n",
    "    sup = el.findAll(\"dd\")\n",
    "    domain_and_range = {}\n",
    "    for dd in sup:\n",
    "        if len(domain_and_range) == 0:\n",
    "            domain_and_range[\"domain\"] = dd.find(text=True)\n",
    "        elif len(domain_and_range) == 1:\n",
    "            domain_and_range[\"range\"] = dd.find(text=True)\n",
    "    domain_and_range[\"iri\"] = el.find(\"a\")['name']\n",
    "    obj_props[(el.find(\"h3\").find(text=True))] = domain_and_range\n",
    "obj_props"
   ]
  },
  {
   "cell_type": "code",
   "execution_count": 4,
   "id": "85c4fb2a",
   "metadata": {},
   "outputs": [
    {
     "data": {
      "text/plain": [
       "{'has foot hight': {'domain': 'Division stop',\n",
       "  'range': 'literal',\n",
       "  'iri': 'https://w3id.org/polifonia/ontology/organs/hasFootHight'},\n",
       " 'has number of bellows': {'domain': 'Organ wind system',\n",
       "  'range': 'integer',\n",
       "  'iri': 'https://w3id.org/polifonia/ontology/organs/hasNumberOfBellows'},\n",
       " 'has organ dictionary ID': {'iri': 'https://w3id.org/arco/ontology/organs/hasOrganDictionaryID'},\n",
       " 'has pitch': {'domain': 'Organ',\n",
       "  'range': 'literal',\n",
       "  'iri': 'https://w3id.org/polifonia/ontology/organs/hasPitch'},\n",
       " 'has range': {'domain': 'Keyboard',\n",
       "  'range': 'literal',\n",
       "  'iri': 'https://w3id.org/polifonia/ontology/organs/hasRange'},\n",
       " 'has rank': {'domain': 'Keyboard',\n",
       "  'range': 'literal',\n",
       "  'iri': 'https://w3id.org/polifonia/ontology/organs/hasRank'},\n",
       " 'has tuning': {'domain': 'Organ',\n",
       "  'range': 'literal',\n",
       "  'iri': 'https://w3id.org/polifonia/ontology/organs/hasTuning'},\n",
       " 'has wind pressure': {'domain': 'Organ division',\n",
       "  'range': 'literal',\n",
       "  'iri': 'https://w3id.org/polifonia/ontology/organs/hasWindPressure'},\n",
       " 'is current parthood': {'domain': 'Parthood',\n",
       "  'range': 'boolean',\n",
       "  'iri': 'https://w3id.org/arco/ontology/core/isCurrentParthood'},\n",
       " 'is first project': {'domain': 'Project',\n",
       "  'range': 'boolean',\n",
       "  'iri': 'https://w3id.org/arco/ontology/core/isFirstProject'},\n",
       " 'is last project': {'domain': 'Project',\n",
       "  'range': 'boolean',\n",
       "  'iri': 'https://w3id.org/arco/ontology/core/isLastProject'},\n",
       " 'organ dictionary ID': {'domain': 'thing',\n",
       "  'range': 'integer',\n",
       "  'iri': 'https://w3id.org/polifonia/ontology/organs/organDictionaryID'}}"
      ]
     },
     "execution_count": 4,
     "metadata": {},
     "output_type": "execute_result"
    }
   ],
   "source": [
    "#DATA PROPERTIES\n",
    "\n",
    "data_props_div = soup.find(id=\"dataproperties\").findAll(\"div\", {\"class\": \"entity\"})\n",
    "data_props = {}\n",
    "for el in data_props_div: \n",
    "    sup = el.findAll(\"dd\")\n",
    "    domain_and_range = {}\n",
    "    for dd in sup:\n",
    "        if len(domain_and_range) == 0:\n",
    "            domain_and_range[\"domain\"] = dd.find(text=True)\n",
    "        elif len(domain_and_range) == 1:\n",
    "            domain_and_range[\"range\"] = dd.find(text=True)\n",
    "    domain_and_range[\"iri\"] = el.find(\"a\")['name']\n",
    "    data_props[(el.find(\"h3\").find(text=True))] = domain_and_range\n",
    "data_props"
   ]
  },
  {
   "cell_type": "code",
   "execution_count": 5,
   "id": "c2fcfdfc",
   "metadata": {},
   "outputs": [
    {
     "data": {
      "text/plain": [
       "{}"
      ]
     },
     "execution_count": 5,
     "metadata": {},
     "output_type": "execute_result"
    }
   ],
   "source": [
    "#NAMED INDIVIDUALS\n",
    "\n",
    "individuals_id = soup.find(id=\"namedindividuals\")\n",
    "individuals_div = individuals_id.findAll(\"div\", {\"class\": \"entity\"}) if individuals_id != None else []\n",
    "individuals = {}\n",
    "for el in individuals_div:\n",
    "    a_list = []\n",
    "    sup = el.findAll(\"dd\")\n",
    "    a_dict = {}\n",
    "    for dd in sup:\n",
    "        if len(a_dict) == 0:\n",
    "            a_dict[\"belongs_to\"] = dd.find(text=True)\n",
    "        elif len(a_dict) > 0:\n",
    "            temporary_list = []\n",
    "            facts = dd.findAll(\"a\") + dd.findAll(\"span\", {\"class\": \"literal\"})\n",
    "            for fact in facts:\n",
    "                temporary_list.append(fact.find(text=True))\n",
    "            a_list.append(temporary_list)\n",
    "            a_dict[\"facts\"] = a_list\n",
    "        a_dict[\"iri\"] = el.find(\"a\")['name']\n",
    "    individuals[(el.find(\"h3\").find(text=True))] = a_dict\n",
    "individuals"
   ]
  },
  {
   "cell_type": "code",
   "execution_count": 6,
   "id": "f55a5349",
   "metadata": {
    "scrolled": true
   },
   "outputs": [
    {
     "data": {
      "text/plain": [
       "{'default namespace': 'https://w3id.org/polifonia/ontology/organs/',\n",
       " 'core': 'https://w3id.org/polifonia/ontology/core/0.1#',\n",
       " 'dul': 'http://www.ontologydesignpatterns.org/ont/dul/DUL.owl#',\n",
       " 'organs': 'https://w3id.org/polifonia/ontology/organs/0.1/',\n",
       " 'owl': 'http://www.w3.org/2002/07/owl#',\n",
       " 'rdf': 'http://www.w3.org/1999/02/22-rdf-syntax-ns#',\n",
       " 'rdfs': 'http://www.w3.org/2000/01/rdf-schema#',\n",
       " 'xsd': 'http://www.w3.org/2001/XMLSchema#'}"
      ]
     },
     "execution_count": 6,
     "metadata": {},
     "output_type": "execute_result"
    }
   ],
   "source": [
    "#NAMESPACES\n",
    "\n",
    "namespacedeclarations_div = soup.find(id=\"namespacedeclarations\")\n",
    "namespacedeclarations = {}\n",
    "for prefix, ref in zip(namespacedeclarations_div.findAll(\"dt\"), namespacedeclarations_div.findAll(\"dd\")):\n",
    "    namespacedeclarations[prefix.find(text=True)] = ref.find(text=True)\n",
    "namespacedeclarations"
   ]
  },
  {
   "cell_type": "code",
   "execution_count": 7,
   "id": "46d76390",
   "metadata": {},
   "outputs": [],
   "source": [
    "from SPARQLWrapper import SPARQLWrapper, JSON\n",
    "import sparql_dataframe\n",
    "import ssl\n",
    "\n",
    "endpoint = \"https://195.240.117.253:17200/repositories/orgeltest\""
   ]
  },
  {
   "cell_type": "code",
   "execution_count": 8,
   "id": "ba2c80d2",
   "metadata": {},
   "outputs": [],
   "source": [
    "import bz2\n",
    "zipfile = bz2.BZ2File(\"C:\\\\Users\\\\sebas\\\\Downloads\\\\led-SNAPSHOT.nt.bz2\") # open the file\n",
    "data = zipfile.read() # get the decompressed data\n"
   ]
  },
  {
   "cell_type": "code",
   "execution_count": 25,
   "id": "11fbd00c",
   "metadata": {},
   "outputs": [
    {
     "name": "stdout",
     "output_type": "stream",
     "text": [
      "<class 'owlready2.namespace.Ontology'>\n"
     ]
    }
   ],
   "source": [
    "from owlready2 import *\n",
    "onto_path.append(\"C:/Users/sebas/OneDrive/Desktop/NL2SPARQL\")\n",
    "onto = get_ontology(\"C:/Users/sebas/OneDrive/Desktop/NL2SPARQL/led-SNAPSHOT.nt\")\n",
    "onto.load()\n",
    "print(type(onto))\n",
    "#onto.save(file=\"led\", format=\"rdfxml\")"
   ]
  },
  {
   "cell_type": "code",
   "execution_count": 27,
   "id": "126f13d8",
   "metadata": {},
   "outputs": [
    {
     "data": {
      "text/plain": [
       "<generator object _GraphManager.classes at 0x000001F2CA61F2E0>"
      ]
     },
     "execution_count": 27,
     "metadata": {},
     "output_type": "execute_result"
    }
   ],
   "source": [
    "onto.classes() "
   ]
  },
  {
   "cell_type": "code",
   "execution_count": 28,
   "id": "0d0991df",
   "metadata": {},
   "outputs": [
    {
     "data": {
      "text/plain": [
       "[]"
      ]
     },
     "execution_count": 28,
     "metadata": {},
     "output_type": "execute_result"
    }
   ],
   "source": [
    "list(onto.classes())"
   ]
  },
  {
   "cell_type": "code",
   "execution_count": null,
   "id": "a3558e82",
   "metadata": {},
   "outputs": [],
   "source": []
  }
 ],
 "metadata": {
  "kernelspec": {
   "display_name": "Python 3 (ipykernel)",
   "language": "python",
   "name": "python3"
  },
  "language_info": {
   "codemirror_mode": {
    "name": "ipython",
    "version": 3
   },
   "file_extension": ".py",
   "mimetype": "text/x-python",
   "name": "python",
   "nbconvert_exporter": "python",
   "pygments_lexer": "ipython3",
   "version": "3.9.7"
  }
 },
 "nbformat": 4,
 "nbformat_minor": 5
}
