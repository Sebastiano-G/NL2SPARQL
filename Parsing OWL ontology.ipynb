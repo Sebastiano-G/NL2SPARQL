{
 "cells": [
  {
   "cell_type": "code",
   "execution_count": 1,
   "id": "41788d97",
   "metadata": {},
   "outputs": [],
   "source": [
    "import urllib.request\n",
    "from bs4 import BeautifulSoup\n",
    "link = \"https://raw.githubusercontent.com/polifonia-project/organs-ontology/main/organs-ontology.owl\"\n",
    "base_url = \"https://w3id.org/lode/\"\n",
    "page = urllib.request.urlopen(base_url + link)\n",
    "soup = BeautifulSoup(page)"
   ]
  },
  {
   "cell_type": "code",
   "execution_count": 2,
   "id": "7906c9d5",
   "metadata": {},
   "outputs": [
    {
     "data": {
      "text/plain": [
       "{'Agent': [None, 'https://w3id.org/arco/ontology/core/Role'],\n",
       " 'Agent role': ['has agent',\n",
       "  'https://w3id.org/polifonia/ontology/core/AgentRole'],\n",
       " 'Brustwerk case': ['Case segment',\n",
       "  'https://w3id.org/polifonia/ontology/organs/BrustwerkCase'],\n",
       " 'Case segment': ['Brustwerk case',\n",
       "  'https://w3id.org/polifonia/ontology/organs/CaseSegment'],\n",
       " 'Choir case': ['Case segment',\n",
       "  'https://w3id.org/polifonia/ontology/organs/ChoirCase'],\n",
       " 'Console location (relative to the organ)': ['has console location',\n",
       "  'https://w3id.org/polifonia/ontology/organs/ConsoleLocation'],\n",
       " 'Console playing aids': [None,\n",
       "  'https://w3id.org/polifonia/ontology/organs/PlayingAids'],\n",
       " 'Console stop knob': [None,\n",
       "  'https://w3id.org/polifonia/ontology/organs/StopKnob'],\n",
       " 'Division stop': ['has part',\n",
       "  'https://w3id.org/polifonia/ontology/organs/DivisionStop'],\n",
       " 'Keyboard': ['Manual keyboard',\n",
       "  'https://w3id.org/polifonia/ontology/organs/Keyboard'],\n",
       " 'Main case': ['Case segment',\n",
       "  'https://w3id.org/polifonia/ontology/organs/MainCase'],\n",
       " 'Manual keyboard': ['Keyboard',\n",
       "  'https://w3id.org/polifonia/ontology/organs/ManualKeyboard'],\n",
       " 'Oberwerk case': ['Case segment',\n",
       "  'https://w3id.org/polifonia/ontology/organs/OberwerkCase'],\n",
       " 'Organ': ['includes part',\n",
       "  'https://w3id.org/polifonia/ontology/organs/Organ'],\n",
       " 'Organ action': ['has console location',\n",
       "  'https://w3id.org/polifonia/ontology/organs/Action'],\n",
       " 'Organ Bellow': [None, 'https://w3id.org/polifonia/ontology/organs/Bellow'],\n",
       " 'Organ case': ['has part', 'https://w3id.org/polifonia/ontology/organs/Case'],\n",
       " 'Organ console': ['has part',\n",
       "  'https://w3id.org/polifonia/ontology/organs/Console'],\n",
       " 'Organ division': ['has part',\n",
       "  'https://w3id.org/polifonia/ontology/organs/Division'],\n",
       " 'Organ wind system': ['has part',\n",
       "  'https://w3id.org/polifonia/ontology/organs/WindSystem'],\n",
       " 'Parthood': ['includes whole',\n",
       "  'https://w3id.org/arco/ontology/core/Parthood'],\n",
       " 'Pedal keyboard': ['Keyboard',\n",
       "  'https://w3id.org/polifonia/ontology/organs/PedalKeyboard'],\n",
       " 'Pedal tower case': ['Case segment',\n",
       "  'https://w3id.org/polifonia/ontology/organs/PedalTowerCase'],\n",
       " 'Pipe': [None, 'https://w3id.org/polifonia/ontology/organs/Pipe'],\n",
       " 'Place': [None, 'https://w3id.org/arco/ontology/core/Place'],\n",
       " 'Positive case': ['Case segment',\n",
       "  'https://w3id.org/polifonia/ontology/organs/PositiveCase'],\n",
       " 'Project': ['defines task', 'https://w3id.org/arco/ontology/core/Project'],\n",
       " 'Stop rank': ['has part',\n",
       "  'https://w3id.org/polifonia/ontology/organs/StopRank'],\n",
       " 'Task': [None, 'https://w3id.org/arco/ontology/core/Task'],\n",
       " 'Time interval': [None,\n",
       "  'https://w3id.org/polifonia/ontology/core/TimeInterval'],\n",
       " 'Wind channel': [None,\n",
       "  'https://w3id.org/polifonia/ontology/organs/WindChannel']}"
      ]
     },
     "execution_count": 2,
     "metadata": {},
     "output_type": "execute_result"
    }
   ],
   "source": [
    "#CLASSES\n",
    "\n",
    "classes_div = soup.find(id=\"classes\").findAll(\"div\", {\"class\": \"entity\"})\n",
    "classes = {}\n",
    "for el in classes_div: \n",
    "    sup = el.find(\"dd\").find(text=True) if el.find(\"dd\") != None else None\n",
    "    iri = el.find(\"a\")\n",
    "    classes[(el.find(\"h3\").find(text=True))] = [sup, iri['name']]\n",
    "classes"
   ]
  },
  {
   "cell_type": "code",
   "execution_count": 3,
   "id": "d4e2b5c4",
   "metadata": {},
   "outputs": [
    {
     "data": {
      "text/plain": [
       "{'defines task': {'domain': 'is task defined in',\n",
       "  'iri': 'https://w3id.org/arco/ontology/core/definesTask'},\n",
       " 'described': {'domain': 'is described by',\n",
       "  'iri': 'https://w3id.org/arco/ontology/core/describes'},\n",
       " 'has agent': {'domain': 'is agent of',\n",
       "  'iri': 'https://w3id.org/arco/ontology/core/hasAgent'},\n",
       " 'has agent role': {'domain': 'is agent role of',\n",
       "  'iri': 'https://w3id.org/polifonia/ontology/core/hasAgentRole'},\n",
       " 'has console location': {'domain': 'Organ action',\n",
       "  'range': 'Console location (relative to the organ)',\n",
       "  'iri': 'https://w3id.org/polifonia/ontology/organs/hasConsoleLocation'},\n",
       " 'has part': {'domain': 'is part of',\n",
       "  'iri': 'https://w3id.org/polifonia/ontology/core/hasPart'},\n",
       " 'has place': {'domain': 'is place of',\n",
       "  'iri': 'https://w3id.org/arco/ontology/core/hasPlace'},\n",
       " 'has role': {'domain': 'is role of',\n",
       "  'iri': 'https://w3id.org/arco/ontology/core/hasRole'},\n",
       " 'has time interval': {'domain': 'is time interval of',\n",
       "  'iri': 'https://w3id.org/polifonia/ontology/core/hasTimeInterval'},\n",
       " 'includes part': {'domain': 'is part included in',\n",
       "  'iri': 'https://w3id.org/arco/ontology/core/includesPart'},\n",
       " 'includes whole': {'domain': 'thing',\n",
       "  'range': 'thing',\n",
       "  'iri': 'https://w3id.org/arco/ontology/core/incudesWhole'},\n",
       " 'is agent of': {'domain': 'has agent',\n",
       "  'iri': 'https://w3id.org/arco/ontology/core/isAgentOf'},\n",
       " 'is agent role of': {'domain': 'has agent role',\n",
       "  'iri': 'https://w3id.org/polifonia/ontology/organs/isAgentRoleOf'},\n",
       " 'is console location of': {'domain': 'has console location',\n",
       "  'iri': 'https://w3id.org/polifonia/ontology/organs/isConsoleLocationOf'},\n",
       " 'is described by': {'domain': 'described',\n",
       "  'iri': 'https://w3id.org/arco/ontology/core/isDescribedBy'},\n",
       " 'is part included in': {'domain': 'includes part',\n",
       "  'iri': 'https://w3id.org/arco/ontology/core/isPartIncludedIn'},\n",
       " 'is part of': {'domain': 'has part',\n",
       "  'iri': 'https://w3id.org/polifonia/ontology/organs/isPartOf'},\n",
       " 'is place of': {'domain': 'has place',\n",
       "  'iri': 'https://w3id.org/arco/ontology/core/isPlaceOf'},\n",
       " 'is role of': {'domain': 'has role',\n",
       "  'iri': 'https://w3id.org/arco/ontology/core/isRoleOf'},\n",
       " 'is task defined in': {'domain': 'defines task',\n",
       "  'iri': 'https://w3id.org/arco/ontology/core/isTaskDefinedIn'},\n",
       " 'is time interval of': {'domain': 'has time interval',\n",
       "  'iri': 'https://w3id.org/polifonia/ontology/organs/isTimeIntervalOf'},\n",
       " 'is whole included in': {'domain': 'includes whole',\n",
       "  'iri': 'https://w3id.org/arco/ontology/core/isWholeIncludedIn'}}"
      ]
     },
     "execution_count": 3,
     "metadata": {},
     "output_type": "execute_result"
    }
   ],
   "source": [
    "#OBJECT PROPERTIES\n",
    "\n",
    "obj_props_div = soup.find(id=\"objectproperties\").findAll(\"div\", {\"class\": \"entity\"})\n",
    "obj_props = {}\n",
    "for el in obj_props_div: \n",
    "    sup = el.findAll(\"dd\")\n",
    "    domain_and_range = {}\n",
    "    for dd in sup:\n",
    "        if len(domain_and_range) == 0:\n",
    "            domain_and_range[\"domain\"] = dd.find(text=True)\n",
    "        elif len(domain_and_range) == 1:\n",
    "            domain_and_range[\"range\"] = dd.find(text=True)\n",
    "    domain_and_range[\"iri\"] = el.find(\"a\")['name']\n",
    "    obj_props[(el.find(\"h3\").find(text=True))] = domain_and_range\n",
    "obj_props"
   ]
  },
  {
   "cell_type": "code",
   "execution_count": 4,
   "id": "2520eeb4",
   "metadata": {},
   "outputs": [
    {
     "data": {
      "text/plain": [
       "{'has foot hight': {'domain': 'Division stop',\n",
       "  'range': 'literal',\n",
       "  'iri': 'https://w3id.org/polifonia/ontology/organs/hasFootHight'},\n",
       " 'has number of bellows': {'domain': 'Organ wind system',\n",
       "  'range': 'integer',\n",
       "  'iri': 'https://w3id.org/polifonia/ontology/organs/hasNumberOfBellows'},\n",
       " 'has organ dictionary ID': {'iri': 'https://w3id.org/arco/ontology/organs/hasOrganDictionaryID'},\n",
       " 'has pitch': {'domain': 'Organ',\n",
       "  'range': 'literal',\n",
       "  'iri': 'https://w3id.org/polifonia/ontology/organs/hasPitch'},\n",
       " 'has range': {'domain': 'Keyboard',\n",
       "  'range': 'literal',\n",
       "  'iri': 'https://w3id.org/polifonia/ontology/organs/hasRange'},\n",
       " 'has rank': {'domain': 'Keyboard',\n",
       "  'range': 'literal',\n",
       "  'iri': 'https://w3id.org/polifonia/ontology/organs/hasRank'},\n",
       " 'has tuning': {'domain': 'Organ',\n",
       "  'range': 'literal',\n",
       "  'iri': 'https://w3id.org/polifonia/ontology/organs/hasTuning'},\n",
       " 'has wind pressure': {'domain': 'Organ division',\n",
       "  'range': 'literal',\n",
       "  'iri': 'https://w3id.org/polifonia/ontology/organs/hasWindPressure'},\n",
       " 'is current parthood': {'domain': 'Parthood',\n",
       "  'range': 'boolean',\n",
       "  'iri': 'https://w3id.org/arco/ontology/core/isCurrentParthood'},\n",
       " 'is first project': {'domain': 'Project',\n",
       "  'range': 'boolean',\n",
       "  'iri': 'https://w3id.org/arco/ontology/core/isFirstProject'},\n",
       " 'is last project': {'domain': 'Project',\n",
       "  'range': 'boolean',\n",
       "  'iri': 'https://w3id.org/arco/ontology/core/isLastProject'},\n",
       " 'organ dictionary ID': {'domain': 'thing',\n",
       "  'range': 'integer',\n",
       "  'iri': 'https://w3id.org/polifonia/ontology/organs/organDictionaryID'}}"
      ]
     },
     "execution_count": 4,
     "metadata": {},
     "output_type": "execute_result"
    }
   ],
   "source": [
    "#DATA PROPERTIES\n",
    "\n",
    "data_props_div = soup.find(id=\"dataproperties\").findAll(\"div\", {\"class\": \"entity\"})\n",
    "data_props = {}\n",
    "for el in data_props_div: \n",
    "    sup = el.findAll(\"dd\")\n",
    "    domain_and_range = {}\n",
    "    for dd in sup:\n",
    "        if len(domain_and_range) == 0:\n",
    "            domain_and_range[\"domain\"] = dd.find(text=True)\n",
    "        elif len(domain_and_range) == 1:\n",
    "            domain_and_range[\"range\"] = dd.find(text=True)\n",
    "    domain_and_range[\"iri\"] = el.find(\"a\")['name']\n",
    "    data_props[(el.find(\"h3\").find(text=True))] = domain_and_range\n",
    "data_props"
   ]
  },
  {
   "cell_type": "code",
   "execution_count": 5,
   "id": "6ffe4f8e",
   "metadata": {},
   "outputs": [
    {
     "data": {
      "text/plain": [
       "{}"
      ]
     },
     "execution_count": 5,
     "metadata": {},
     "output_type": "execute_result"
    }
   ],
   "source": [
    "#NAMED INDIVIDUALS\n",
    "\n",
    "individuals_id = soup.find(id=\"namedindividuals\")\n",
    "individuals_div = individuals_id.findAll(\"div\", {\"class\": \"entity\"}) if individuals_id != None else []\n",
    "individuals = {}\n",
    "for el in individuals_div:\n",
    "    a_list = []\n",
    "    sup = el.findAll(\"dd\")\n",
    "    a_dict = {}\n",
    "    for dd in sup:\n",
    "        if len(a_dict) == 0:\n",
    "            a_dict[\"belongs_to\"] = dd.find(text=True)\n",
    "        elif len(a_dict) > 0:\n",
    "            temporary_list = []\n",
    "            facts = dd.findAll(\"a\") + dd.findAll(\"span\", {\"class\": \"literal\"})\n",
    "            for fact in facts:\n",
    "                temporary_list.append(fact.find(text=True))\n",
    "            a_list.append(temporary_list)\n",
    "            a_dict[\"facts\"] = a_list\n",
    "        a_dict[\"iri\"] = el.find(\"a\")['name']\n",
    "    individuals[(el.find(\"h3\").find(text=True))] = a_dict\n",
    "individuals"
   ]
  },
  {
   "cell_type": "code",
   "execution_count": 6,
   "id": "b90ef019",
   "metadata": {
    "scrolled": true
   },
   "outputs": [
    {
     "data": {
      "text/plain": [
       "{'default namespace': 'https://w3id.org/polifonia/ontology/organs/',\n",
       " 'core': 'https://w3id.org/polifonia/ontology/core/0.1#',\n",
       " 'dul': 'http://www.ontologydesignpatterns.org/ont/dul/DUL.owl#',\n",
       " 'organs': 'https://w3id.org/polifonia/ontology/organs/0.1/',\n",
       " 'owl': 'http://www.w3.org/2002/07/owl#',\n",
       " 'rdf': 'http://www.w3.org/1999/02/22-rdf-syntax-ns#',\n",
       " 'rdfs': 'http://www.w3.org/2000/01/rdf-schema#',\n",
       " 'xsd': 'http://www.w3.org/2001/XMLSchema#'}"
      ]
     },
     "execution_count": 6,
     "metadata": {},
     "output_type": "execute_result"
    }
   ],
   "source": [
    "#NAMESPACES\n",
    "\n",
    "namespacedeclarations_div = soup.find(id=\"namespacedeclarations\")\n",
    "namespacedeclarations = {}\n",
    "for prefix, ref in zip(namespacedeclarations_div.findAll(\"dt\"), namespacedeclarations_div.findAll(\"dd\")):\n",
    "    namespacedeclarations[prefix.find(text=True)] = ref.find(text=True)\n",
    "namespacedeclarations"
   ]
  },
  {
   "cell_type": "code",
   "execution_count": 7,
   "id": "e80a17ee",
   "metadata": {},
   "outputs": [],
   "source": [
    "from SPARQLWrapper import SPARQLWrapper, JSON\n",
    "import sparql_dataframe\n",
    "import ssl\n",
    "\n",
    "endpoint = \"https://195.240.117.253:17200/repositories/orgeltest\""
   ]
  },
  {
   "cell_type": "code",
   "execution_count": 8,
   "id": "c9aad4cb",
   "metadata": {},
   "outputs": [],
   "source": [
    "import bz2\n",
    "zipfile = bz2.BZ2File(\"C:\\\\Users\\\\sebas\\\\Downloads\\\\led-SNAPSHOT.nt.bz2\") # open the file\n",
    "data = zipfile.read() # get the decompressed data\n"
   ]
  },
  {
   "cell_type": "code",
   "execution_count": 9,
   "id": "1a4f7d27",
   "metadata": {},
   "outputs": [],
   "source": [
    "from owlready2 import *\n",
    "onto_path.append(\"C:/Users/sebas/OneDrive/Desktop/NL2SPARQL\")\n",
    "onto = get_ontology(\"C:/Users/sebas/OneDrive/Desktop/NL2SPARQL/led-SNAPSHOT.nt\")\n",
    "onto.load()\n",
    "onto.save(file=\"led\", format=\"rdfxml\")"
   ]
  },
  {
   "cell_type": "code",
   "execution_count": null,
   "id": "081f48f7",
   "metadata": {},
   "outputs": [],
   "source": []
  }
 ],
 "metadata": {
  "kernelspec": {
   "display_name": "Python 3 (ipykernel)",
   "language": "python",
   "name": "python3"
  },
  "language_info": {
   "codemirror_mode": {
    "name": "ipython",
    "version": 3
   },
   "file_extension": ".py",
   "mimetype": "text/x-python",
   "name": "python",
   "nbconvert_exporter": "python",
   "pygments_lexer": "ipython3",
   "version": "3.9.7"
  }
 },
 "nbformat": 4,
 "nbformat_minor": 5
}
