{
 "cells": [
  {
   "cell_type": "code",
   "execution_count": 1,
   "id": "cbb8ecea",
   "metadata": {},
   "outputs": [],
   "source": [
    "import urllib.request\n",
    "from bs4 import BeautifulSoup\n",
    "link = \"https://raw.githubusercontent.com/polifonia-project/organs-ontology/main/organs-ontology.owl\"\n",
    "base_url = \"https://w3id.org/lode/\"\n",
    "page = urllib.request.urlopen(base_url + link)\n",
    "soup = BeautifulSoup(page)"
   ]
  },
  {
   "cell_type": "code",
   "execution_count": 3,
   "id": "ea380fae",
   "metadata": {},
   "outputs": [
    {
     "data": {
      "text/plain": [
       "{'Agent': [None, 'https://w3id.org/arco/ontology/core/Role'],\n",
       " 'Agent role': ['has agent',\n",
       "  'https://w3id.org/polifonia/ontology/core/AgentRole'],\n",
       " 'Brustwerk case': ['Case segment',\n",
       "  'https://w3id.org/polifonia/ontology/organs/BrustwerkCase'],\n",
       " 'Case segment': ['Brustwerk case',\n",
       "  'https://w3id.org/polifonia/ontology/organs/CaseSegment'],\n",
       " 'Choir case': ['Case segment',\n",
       "  'https://w3id.org/polifonia/ontology/organs/ChoirCase'],\n",
       " 'Console location (relative to the organ)': ['has console location',\n",
       "  'https://w3id.org/polifonia/ontology/organs/ConsoleLocation'],\n",
       " 'Console playing aids': [None,\n",
       "  'https://w3id.org/polifonia/ontology/organs/PlayingAids'],\n",
       " 'Console stop knob': [None,\n",
       "  'https://w3id.org/polifonia/ontology/organs/StopKnob'],\n",
       " 'Division stop': ['has part',\n",
       "  'https://w3id.org/polifonia/ontology/organs/DivisionStop'],\n",
       " 'Keyboard': ['Manual keyboard',\n",
       "  'https://w3id.org/polifonia/ontology/organs/Keyboard'],\n",
       " 'Main case': ['Case segment',\n",
       "  'https://w3id.org/polifonia/ontology/organs/MainCase'],\n",
       " 'Manual keyboard': ['Keyboard',\n",
       "  'https://w3id.org/polifonia/ontology/organs/ManualKeyboard'],\n",
       " 'Oberwerk case': ['Case segment',\n",
       "  'https://w3id.org/polifonia/ontology/organs/OberwerkCase'],\n",
       " 'Organ': ['includes part',\n",
       "  'https://w3id.org/polifonia/ontology/organs/Organ'],\n",
       " 'Organ action': ['has console location',\n",
       "  'https://w3id.org/polifonia/ontology/organs/Action'],\n",
       " 'Organ Bellow': [None, 'https://w3id.org/polifonia/ontology/organs/Bellow'],\n",
       " 'Organ case': ['has part', 'https://w3id.org/polifonia/ontology/organs/Case'],\n",
       " 'Organ console': ['has part',\n",
       "  'https://w3id.org/polifonia/ontology/organs/Console'],\n",
       " 'Organ division': ['has part',\n",
       "  'https://w3id.org/polifonia/ontology/organs/Division'],\n",
       " 'Organ wind system': ['has part',\n",
       "  'https://w3id.org/polifonia/ontology/organs/WindSystem'],\n",
       " 'Parthood': ['includes whole',\n",
       "  'https://w3id.org/arco/ontology/core/Parthood'],\n",
       " 'Pedal keyboard': ['Keyboard',\n",
       "  'https://w3id.org/polifonia/ontology/organs/PedalKeyboard'],\n",
       " 'Pedal tower case': ['Case segment',\n",
       "  'https://w3id.org/polifonia/ontology/organs/PedalTowerCase'],\n",
       " 'Pipe': [None, 'https://w3id.org/polifonia/ontology/organs/Pipe'],\n",
       " 'Place': [None, 'https://w3id.org/arco/ontology/core/Place'],\n",
       " 'Positive case': ['Case segment',\n",
       "  'https://w3id.org/polifonia/ontology/organs/PositiveCase'],\n",
       " 'Project': ['defines task', 'https://w3id.org/arco/ontology/core/Project'],\n",
       " 'Stop rank': ['has part',\n",
       "  'https://w3id.org/polifonia/ontology/organs/StopRank'],\n",
       " 'Task': [None, 'https://w3id.org/arco/ontology/core/Task'],\n",
       " 'Time interval': [None,\n",
       "  'https://w3id.org/polifonia/ontology/core/TimeInterval'],\n",
       " 'Wind channel': [None,\n",
       "  'https://w3id.org/polifonia/ontology/organs/WindChannel']}"
      ]
     },
     "execution_count": 3,
     "metadata": {},
     "output_type": "execute_result"
    }
   ],
   "source": [
    "#CLASSES\n",
    "\n",
    "classes_div = soup.find(id=\"classes\").findAll(\"div\", {\"class\": \"entity\"})\n",
    "classes = {}\n",
    "for el in classes_div: \n",
    "    sup = el.find(\"dd\").find(text=True) if el.find(\"dd\") != None else None\n",
    "    iri = el.find(\"a\")\n",
    "    classes[(el.find(\"h3\").find(text=True))] = [sup, iri['name']]\n",
    "classes"
   ]
  },
  {
   "cell_type": "code",
   "execution_count": 4,
   "id": "450b52f7",
   "metadata": {},
   "outputs": [
    {
     "data": {
      "text/plain": [
       "{'defines task': {'domain': 'is task defined in',\n",
       "  'iri': 'https://w3id.org/arco/ontology/core/definesTask'},\n",
       " 'described': {'domain': 'is described by',\n",
       "  'iri': 'https://w3id.org/arco/ontology/core/describes'},\n",
       " 'has agent': {'domain': 'is agent of',\n",
       "  'iri': 'https://w3id.org/arco/ontology/core/hasAgent'},\n",
       " 'has agent role': {'domain': 'is agent role of',\n",
       "  'iri': 'https://w3id.org/polifonia/ontology/core/hasAgentRole'},\n",
       " 'has console location': {'domain': 'Organ action',\n",
       "  'range': 'Console location (relative to the organ)',\n",
       "  'iri': 'https://w3id.org/polifonia/ontology/organs/hasConsoleLocation'},\n",
       " 'has part': {'domain': 'is part of',\n",
       "  'iri': 'https://w3id.org/polifonia/ontology/core/hasPart'},\n",
       " 'has place': {'domain': 'is place of',\n",
       "  'iri': 'https://w3id.org/arco/ontology/core/hasPlace'},\n",
       " 'has role': {'domain': 'is role of',\n",
       "  'iri': 'https://w3id.org/arco/ontology/core/hasRole'},\n",
       " 'has time interval': {'domain': 'is time interval of',\n",
       "  'iri': 'https://w3id.org/polifonia/ontology/core/hasTimeInterval'},\n",
       " 'includes part': {'domain': 'is part included in',\n",
       "  'iri': 'https://w3id.org/arco/ontology/core/includesPart'},\n",
       " 'includes whole': {'domain': 'thing',\n",
       "  'range': 'thing',\n",
       "  'iri': 'https://w3id.org/arco/ontology/core/incudesWhole'},\n",
       " 'is agent of': {'domain': 'has agent',\n",
       "  'iri': 'https://w3id.org/arco/ontology/core/isAgentOf'},\n",
       " 'is agent role of': {'domain': 'has agent role',\n",
       "  'iri': 'https://w3id.org/polifonia/ontology/organs/isAgentRoleOf'},\n",
       " 'is console location of': {'domain': 'has console location',\n",
       "  'iri': 'https://w3id.org/polifonia/ontology/organs/isConsoleLocationOf'},\n",
       " 'is described by': {'domain': 'described',\n",
       "  'iri': 'https://w3id.org/arco/ontology/core/isDescribedBy'},\n",
       " 'is part included in': {'domain': 'includes part',\n",
       "  'iri': 'https://w3id.org/arco/ontology/core/isPartIncludedIn'},\n",
       " 'is part of': {'domain': 'has part',\n",
       "  'iri': 'https://w3id.org/polifonia/ontology/organs/isPartOf'},\n",
       " 'is place of': {'domain': 'has place',\n",
       "  'iri': 'https://w3id.org/arco/ontology/core/isPlaceOf'},\n",
       " 'is role of': {'domain': 'has role',\n",
       "  'iri': 'https://w3id.org/arco/ontology/core/isRoleOf'},\n",
       " 'is task defined in': {'domain': 'defines task',\n",
       "  'iri': 'https://w3id.org/arco/ontology/core/isTaskDefinedIn'},\n",
       " 'is time interval of': {'domain': 'has time interval',\n",
       "  'iri': 'https://w3id.org/polifonia/ontology/organs/isTimeIntervalOf'},\n",
       " 'is whole included in': {'domain': 'includes whole',\n",
       "  'iri': 'https://w3id.org/arco/ontology/core/isWholeIncludedIn'}}"
      ]
     },
     "execution_count": 4,
     "metadata": {},
     "output_type": "execute_result"
    }
   ],
   "source": [
    "#OBJECT PROPERTIES\n",
    "\n",
    "obj_props_div = soup.find(id=\"objectproperties\").findAll(\"div\", {\"class\": \"entity\"})\n",
    "obj_props = {}\n",
    "for el in obj_props_div: \n",
    "    sup = el.findAll(\"dd\")\n",
    "    domain_and_range = {}\n",
    "    for dd in sup:\n",
    "        if len(domain_and_range) == 0:\n",
    "            domain_and_range[\"domain\"] = dd.find(text=True)\n",
    "        elif len(domain_and_range) == 1:\n",
    "            domain_and_range[\"range\"] = dd.find(text=True)\n",
    "    domain_and_range[\"iri\"] = el.find(\"a\")['name']\n",
    "    obj_props[(el.find(\"h3\").find(text=True))] = domain_and_range\n",
    "obj_props"
   ]
  },
  {
   "cell_type": "code",
   "execution_count": 5,
   "id": "6623fbe3",
   "metadata": {},
   "outputs": [
    {
     "data": {
      "text/plain": [
       "{'has foot hight': {'domain': 'Division stop',\n",
       "  'range': 'literal',\n",
       "  'iri': 'https://w3id.org/polifonia/ontology/organs/hasFootHight'},\n",
       " 'has number of bellows': {'domain': 'Organ wind system',\n",
       "  'range': 'integer',\n",
       "  'iri': 'https://w3id.org/polifonia/ontology/organs/hasNumberOfBellows'},\n",
       " 'has organ dictionary ID': {'iri': 'https://w3id.org/arco/ontology/organs/hasOrganDictionaryID'},\n",
       " 'has pitch': {'domain': 'Organ',\n",
       "  'range': 'literal',\n",
       "  'iri': 'https://w3id.org/polifonia/ontology/organs/hasPitch'},\n",
       " 'has range': {'domain': 'Keyboard',\n",
       "  'range': 'literal',\n",
       "  'iri': 'https://w3id.org/polifonia/ontology/organs/hasRange'},\n",
       " 'has rank': {'domain': 'Keyboard',\n",
       "  'range': 'literal',\n",
       "  'iri': 'https://w3id.org/polifonia/ontology/organs/hasRank'},\n",
       " 'has tuning': {'domain': 'Organ',\n",
       "  'range': 'literal',\n",
       "  'iri': 'https://w3id.org/polifonia/ontology/organs/hasTuning'},\n",
       " 'has wind pressure': {'domain': 'Organ division',\n",
       "  'range': 'literal',\n",
       "  'iri': 'https://w3id.org/polifonia/ontology/organs/hasWindPressure'},\n",
       " 'is current parthood': {'domain': 'Parthood',\n",
       "  'range': 'boolean',\n",
       "  'iri': 'https://w3id.org/arco/ontology/core/isCurrentParthood'},\n",
       " 'is first project': {'domain': 'Project',\n",
       "  'range': 'boolean',\n",
       "  'iri': 'https://w3id.org/arco/ontology/core/isFirstProject'},\n",
       " 'is last project': {'domain': 'Project',\n",
       "  'range': 'boolean',\n",
       "  'iri': 'https://w3id.org/arco/ontology/core/isLastProject'},\n",
       " 'organ dictionary ID': {'domain': 'thing',\n",
       "  'range': 'integer',\n",
       "  'iri': 'https://w3id.org/polifonia/ontology/organs/organDictionaryID'}}"
      ]
     },
     "execution_count": 5,
     "metadata": {},
     "output_type": "execute_result"
    }
   ],
   "source": [
    "#DATA PROPERTIES\n",
    "\n",
    "data_props_div = soup.find(id=\"dataproperties\").findAll(\"div\", {\"class\": \"entity\"})\n",
    "data_props = {}\n",
    "for el in data_props_div: \n",
    "    sup = el.findAll(\"dd\")\n",
    "    domain_and_range = {}\n",
    "    for dd in sup:\n",
    "        if len(domain_and_range) == 0:\n",
    "            domain_and_range[\"domain\"] = dd.find(text=True)\n",
    "        elif len(domain_and_range) == 1:\n",
    "            domain_and_range[\"range\"] = dd.find(text=True)\n",
    "    domain_and_range[\"iri\"] = el.find(\"a\")['name']\n",
    "    data_props[(el.find(\"h3\").find(text=True))] = domain_and_range\n",
    "data_props"
   ]
  },
  {
   "cell_type": "code",
   "execution_count": 6,
   "id": "a5679c47",
   "metadata": {},
   "outputs": [
    {
     "ename": "AttributeError",
     "evalue": "'NoneType' object has no attribute 'findAll'",
     "output_type": "error",
     "traceback": [
      "\u001b[1;31m---------------------------------------------------------------------------\u001b[0m",
      "\u001b[1;31mAttributeError\u001b[0m                            Traceback (most recent call last)",
      "\u001b[1;32m~\\AppData\\Local\\Temp/ipykernel_30984/2152128779.py\u001b[0m in \u001b[0;36m<module>\u001b[1;34m\u001b[0m\n\u001b[0;32m      1\u001b[0m \u001b[1;31m#NAMED INDIVIDUALS\u001b[0m\u001b[1;33m\u001b[0m\u001b[1;33m\u001b[0m\u001b[0m\n\u001b[0;32m      2\u001b[0m \u001b[1;33m\u001b[0m\u001b[0m\n\u001b[1;32m----> 3\u001b[1;33m \u001b[0mindividuals_div\u001b[0m \u001b[1;33m=\u001b[0m \u001b[0msoup\u001b[0m\u001b[1;33m.\u001b[0m\u001b[0mfind\u001b[0m\u001b[1;33m(\u001b[0m\u001b[0mid\u001b[0m\u001b[1;33m=\u001b[0m\u001b[1;34m\"namedindividuals\"\u001b[0m\u001b[1;33m)\u001b[0m\u001b[1;33m.\u001b[0m\u001b[0mfindAll\u001b[0m\u001b[1;33m(\u001b[0m\u001b[1;34m\"div\"\u001b[0m\u001b[1;33m,\u001b[0m \u001b[1;33m{\u001b[0m\u001b[1;34m\"class\"\u001b[0m\u001b[1;33m:\u001b[0m \u001b[1;34m\"entity\"\u001b[0m\u001b[1;33m}\u001b[0m\u001b[1;33m)\u001b[0m\u001b[1;33m\u001b[0m\u001b[1;33m\u001b[0m\u001b[0m\n\u001b[0m\u001b[0;32m      4\u001b[0m \u001b[0mindividuals\u001b[0m \u001b[1;33m=\u001b[0m \u001b[1;33m{\u001b[0m\u001b[1;33m}\u001b[0m\u001b[1;33m\u001b[0m\u001b[1;33m\u001b[0m\u001b[0m\n\u001b[0;32m      5\u001b[0m \u001b[1;32mfor\u001b[0m \u001b[0mel\u001b[0m \u001b[1;32min\u001b[0m \u001b[0mindividuals_div\u001b[0m\u001b[1;33m:\u001b[0m\u001b[1;33m\u001b[0m\u001b[1;33m\u001b[0m\u001b[0m\n",
      "\u001b[1;31mAttributeError\u001b[0m: 'NoneType' object has no attribute 'findAll'"
     ]
    }
   ],
   "source": [
    "#NAMED INDIVIDUALS\n",
    "\n",
    "individuals_id = soup.find(id=\"namedindividuals\")\n",
    "individuals_div = individuals_id.findAll(\"div\", {\"class\": \"entity\"}) if individuals_id != None else []\n",
    "individuals = {}\n",
    "for el in individuals_div:\n",
    "    a_list = []\n",
    "    sup = el.findAll(\"dd\")\n",
    "    a_dict = {}\n",
    "    for dd in sup:\n",
    "        if len(a_dict) == 0:\n",
    "            a_dict[\"belongs_to\"] = dd.find(text=True)\n",
    "        elif len(a_dict) > 0:\n",
    "            temporary_list = []\n",
    "            facts = dd.findAll(\"a\") + dd.findAll(\"span\", {\"class\": \"literal\"})\n",
    "            for fact in facts:\n",
    "                temporary_list.append(fact.find(text=True))\n",
    "            a_list.append(temporary_list)\n",
    "            a_dict[\"facts\"] = a_list\n",
    "        a_dict[\"iri\"] = el.find(\"a\")['name']\n",
    "    individuals[(el.find(\"h3\").find(text=True))] = a_dict\n",
    "individuals"
   ]
  },
  {
   "cell_type": "code",
   "execution_count": null,
   "id": "191defa1",
   "metadata": {
    "scrolled": true
   },
   "outputs": [],
   "source": [
    "#NAMESPACES\n",
    "\n",
    "namespacedeclarations_div = soup.find(id=\"namespacedeclarations\")\n",
    "namespacedeclarations = {}\n",
    "for prefix, ref in zip(namespacedeclarations_div.findAll(\"dt\"), namespacedeclarations_div.findAll(\"dd\")):\n",
    "    namespacedeclarations[prefix.find(text=True)] = ref.find(text=True)\n",
    "namespacedeclarations"
   ]
  }
 ],
 "metadata": {
  "kernelspec": {
   "display_name": "Python 3 (ipykernel)",
   "language": "python",
   "name": "python3"
  },
  "language_info": {
   "codemirror_mode": {
    "name": "ipython",
    "version": 3
   },
   "file_extension": ".py",
   "mimetype": "text/x-python",
   "name": "python",
   "nbconvert_exporter": "python",
   "pygments_lexer": "ipython3",
   "version": "3.9.7"
  }
 },
 "nbformat": 4,
 "nbformat_minor": 5
}
